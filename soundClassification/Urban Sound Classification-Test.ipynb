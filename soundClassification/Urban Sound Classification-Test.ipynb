{
 "cells": [
  {
   "cell_type": "code",
   "execution_count": 1,
   "metadata": {},
   "outputs": [
    {
     "name": "stdout",
     "output_type": "stream",
     "text": [
      "CPython 3.6.5\n",
      "IPython 6.3.1\n",
      "\n",
      "numpy 1.14.3\n",
      "sklearn 0.19.1\n",
      "tensorflow 1.8.0\n",
      "\n",
      "compiler   : MSC v.1900 64 bit (AMD64)\n",
      "system     : Windows\n",
      "release    : 10\n",
      "machine    : AMD64\n",
      "processor  : Intel64 Family 6 Model 158 Stepping 9, GenuineIntel\n",
      "CPU cores  : 8\n",
      "interpreter: 64bit\n"
     ]
    }
   ],
   "source": [
    "%matplotlib inline\n",
    "%load_ext watermark\n",
    "%watermark -v -m -p numpy,sklearn,tensorflow"
   ]
  },
  {
   "cell_type": "code",
   "execution_count": 2,
   "metadata": {
    "scrolled": true
   },
   "outputs": [],
   "source": [
    "import matplotlib.pyplot as plt\n",
    "import numpy as np\n",
    "import tensorflow as tf"
   ]
  },
  {
   "cell_type": "code",
   "execution_count": 3,
   "metadata": {},
   "outputs": [
    {
     "data": {
      "text/plain": [
       "((2092, 193), (2092, 10))"
      ]
     },
     "execution_count": 3,
     "metadata": {},
     "output_type": "execute_result"
    }
   ],
   "source": [
    "sound_names = [\"air conditioner\",\"car horn\",\"children playing\",\"dog bark\",\"drilling\",\"engine idling\",\n",
    "               \"gun shot\",\"jackhammer\",\"siren\",\"street music\"]\n",
    "sound_data = np.load('urban_sound_test.npz')\n",
    "X_test= sound_data['X']\n",
    "y_test = sound_data['y']\n",
    "X_test.shape, y_test.shape"
   ]
  },
  {
   "cell_type": "code",
   "execution_count": 4,
   "metadata": {
    "collapsed": true
   },
   "outputs": [],
   "source": [
    "training_epochs = 5000\n",
    "n_dim = 193\n",
    "n_classes = 10\n",
    "learning_rate = 0.001"
   ]
  },
  {
   "cell_type": "code",
   "execution_count": 5,
   "metadata": {
    "collapsed": true
   },
   "outputs": [],
   "source": [
    "g1 = tf.Graph()\n",
    "with g1.as_default():\n",
    "    X = tf.placeholder(tf.float32, [None, n_dim])\n",
    "    Y = tf.placeholder(tf.float32, [None, n_classes])\n",
    "\n",
    "    c1 = tf.layers.conv2d(tf.reshape(X, [-1, 1, n_dim, 1]), 50, (1, 5), padding='same', \n",
    "                          activation=tf.nn.sigmoid, name=\"c1\")\n",
    "    p1 = tf.layers.max_pooling2d(inputs=c1, pool_size=[1, 2], strides=2)\n",
    "    c2 = tf.layers.conv2d(tf.reshape(p1, [-1, 1, 96, 50]), 100, (1, 5), padding='same', \n",
    "                          activation=tf.nn.sigmoid, name=\"c2\")\n",
    "    p2 = tf.layers.max_pooling2d(inputs=c2, pool_size=[1, 2], strides=2)\n",
    "\n",
    "    h_p = tf.reshape(p2, [-1, 48*100])\n",
    "\n",
    "    h_1 = tf.layers.dense(inputs=h_p, units=1000, activation=tf.nn.sigmoid,\n",
    "                          kernel_initializer=tf.contrib.layers.xavier_initializer(), name=\"fc1\")\n",
    "\n",
    "    y_hat = tf.layers.dense(inputs=h_1, units=n_classes,\n",
    "                            kernel_initializer=tf.contrib.layers.xavier_initializer(), \n",
    "                            name=\"h4\")\n",
    "\n",
    "    correct_prediction = tf.equal(tf.argmax(y_hat,1), tf.argmax(Y,1))\n",
    "    accuracy = tf.reduce_mean(tf.cast(correct_prediction, tf.float32))\n",
    "\n",
    "    init = tf.global_variables_initializer()\n",
    "    saver = tf.train.Saver()"
   ]
  },
  {
   "cell_type": "code",
   "execution_count": 7,
   "metadata": {},
   "outputs": [
    {
     "name": "stdout",
     "output_type": "stream",
     "text": [
      "INFO:tensorflow:Restoring parameters from model_adam.ckpt\n",
      "Test accuracy:  0.565\n"
     ]
    }
   ],
   "source": [
    "with tf.Session(graph=g1) as sess:\n",
    "    sess.run(init)\n",
    "    saver.restore(sess, 'model_adam.ckpt')\n",
    "    print('Test accuracy: ',round(sess.run(accuracy, feed_dict={X: X_test, Y: y_test}) , 3))"
   ]
  },
  {
   "cell_type": "code",
   "execution_count": null,
   "metadata": {
    "collapsed": true
   },
   "outputs": [],
   "source": []
  }
 ],
 "metadata": {
  "kernelspec": {
   "display_name": "Python 3",
   "language": "python",
   "name": "python3"
  },
  "language_info": {
   "codemirror_mode": {
    "name": "ipython",
    "version": 3
   },
   "file_extension": ".py",
   "mimetype": "text/x-python",
   "name": "python",
   "nbconvert_exporter": "python",
   "pygments_lexer": "ipython3",
   "version": "3.6.5"
  }
 },
 "nbformat": 4,
 "nbformat_minor": 1
}
